{
  "nbformat": 4,
  "nbformat_minor": 0,
  "metadata": {
    "colab": {
      "provenance": [],
      "gpuType": "T4"
    },
    "kernelspec": {
      "name": "python3",
      "display_name": "Python 3"
    },
    "language_info": {
      "name": "python"
    },
    "accelerator": "GPU"
  },
  "cells": [
    {
      "cell_type": "markdown",
      "source": [
        "## Step 1: Install Required Dependencies"
      ],
      "metadata": {
        "id": "TnCfgd5g9llk"
      }
    },
    {
      "cell_type": "code",
      "source": [
        "!pip install transformers datasets torch evaluate matplotlib -q"
      ],
      "metadata": {
        "id": "vG1Ll2LzDVww",
        "colab": {
          "base_uri": "https://localhost:8080/"
        },
        "outputId": "71d912f1-c80d-4062-8e26-4d9aada4d2ce"
      },
      "execution_count": 1,
      "outputs": [
        {
          "output_type": "stream",
          "name": "stdout",
          "text": [
            "\u001b[?25l   \u001b[90m━━━━━━━━━━━━━━━━━━━━━━━━━━━━━━━━━━━━━━━━\u001b[0m \u001b[32m0.0/84.0 kB\u001b[0m \u001b[31m?\u001b[0m eta \u001b[36m-:--:--\u001b[0m\r\u001b[2K   \u001b[90m━━━━━━━━━━━━━━━━━━━━━━━━━━━━━━━━━━━━━━━━\u001b[0m \u001b[32m84.0/84.0 kB\u001b[0m \u001b[31m5.1 MB/s\u001b[0m eta \u001b[36m0:00:00\u001b[0m\n",
            "\u001b[?25h\u001b[31mERROR: pip's dependency resolver does not currently take into account all the packages that are installed. This behaviour is the source of the following dependency conflicts.\n",
            "gcsfs 2025.2.0 requires fsspec==2025.2.0, but you have fsspec 2024.9.0 which is incompatible.\u001b[0m\u001b[31m\n",
            "\u001b[0m"
          ]
        }
      ]
    },
    {
      "cell_type": "markdown",
      "source": [
        "## Step 2: Import Required Libraries"
      ],
      "metadata": {
        "id": "HwXW8gr894SS"
      }
    },
    {
      "cell_type": "code",
      "source": [
        "import torch\n",
        "import time\n",
        "import matplotlib.pyplot as plt\n",
        "from transformers import DistilBertForSequenceClassification, DistilBertTokenizerFast, Trainer, TrainingArguments\n",
        "from datasets import load_dataset\n"
      ],
      "metadata": {
        "id": "ACF-KIsOwB7-"
      },
      "execution_count": 2,
      "outputs": []
    },
    {
      "cell_type": "markdown",
      "source": [
        "## Step 3: Load and Preprocess the IMDB Dataset"
      ],
      "metadata": {
        "id": "lmT9-Lp9982K"
      }
    },
    {
      "cell_type": "code",
      "source": [
        "# Load IMDB Dataset\n",
        "dataset = load_dataset(\"imdb\")\n",
        "\n",
        "# Load Pretrained Tokenizer\n",
        "model_name = \"distilbert-base-uncased\"\n",
        "tokenizer = DistilBertTokenizerFast.from_pretrained(model_name)\n",
        "\n",
        "# Tokenize Dataset\n",
        "def preprocess_function(examples):\n",
        "    return tokenizer(examples[\"text\"], truncation=True, padding=\"max_length\", max_length=256)\n",
        "\n",
        "encoded_dataset = dataset.map(preprocess_function, batched=True)\n"
      ],
      "metadata": {
        "colab": {
          "base_uri": "https://localhost:8080/"
        },
        "id": "7TbcNBZI38SJ",
        "outputId": "bc0615a1-c073-4222-acdc-628cb7b2f46b"
      },
      "execution_count": 3,
      "outputs": [
        {
          "output_type": "stream",
          "name": "stderr",
          "text": [
            "/usr/local/lib/python3.11/dist-packages/huggingface_hub/utils/_auth.py:94: UserWarning: \n",
            "The secret `HF_TOKEN` does not exist in your Colab secrets.\n",
            "To authenticate with the Hugging Face Hub, create a token in your settings tab (https://huggingface.co/settings/tokens), set it as secret in your Google Colab and restart your session.\n",
            "You will be able to reuse this secret in all of your notebooks.\n",
            "Please note that authentication is recommended but still optional to access public models or datasets.\n",
            "  warnings.warn(\n"
          ]
        }
      ]
    },
    {
      "cell_type": "markdown",
      "source": [
        "## Step 4: Load Pretrained Model and Define Training Parameters"
      ],
      "metadata": {
        "id": "ptW0_3dy-Euw"
      }
    },
    {
      "cell_type": "code",
      "source": [
        "# Load Pretrained DistilBERT Model\n",
        "model = DistilBertForSequenceClassification.from_pretrained(model_name, num_labels=2)\n",
        "\n",
        "# Define Training Arguments\n",
        "training_args = TrainingArguments(\n",
        "    output_dir=\"./distilbert_finetuned\",\n",
        "    evaluation_strategy=\"epoch\",\n",
        "    save_strategy=\"epoch\",\n",
        "    per_device_train_batch_size=8,\n",
        "    per_device_eval_batch_size=8,\n",
        "    num_train_epochs=2,\n",
        "    learning_rate=5e-5,\n",
        "    weight_decay=0.01,\n",
        "    save_total_limit=1,\n",
        "    logging_dir=\"./logs\",\n",
        "    report_to=\"none\"  # Disables unnecessary logging services\n",
        ")\n",
        "\n",
        "# Define Trainer\n",
        "trainer = Trainer(\n",
        "    model=model,\n",
        "    args=training_args,\n",
        "    train_dataset=encoded_dataset[\"train\"].shuffle(seed=42).select(range(5000)),  # Using 5000 samples for quick fine-tuning\n",
        "    eval_dataset=encoded_dataset[\"test\"].shuffle(seed=42).select(range(1000)),  # Using 1000 samples for evaluation\n",
        "    tokenizer=tokenizer\n",
        ")\n",
        "\n",
        "# Fine-Tune the Model\n",
        "trainer.train()\n"
      ],
      "metadata": {
        "colab": {
          "base_uri": "https://localhost:8080/",
          "height": 314
        },
        "id": "w98Z-pNq3Ojb",
        "outputId": "8fb9121f-0b92-48d0-fcdc-dd1eebc0eb6b"
      },
      "execution_count": 4,
      "outputs": [
        {
          "output_type": "stream",
          "name": "stderr",
          "text": [
            "Some weights of DistilBertForSequenceClassification were not initialized from the model checkpoint at distilbert-base-uncased and are newly initialized: ['classifier.bias', 'classifier.weight', 'pre_classifier.bias', 'pre_classifier.weight']\n",
            "You should probably TRAIN this model on a down-stream task to be able to use it for predictions and inference.\n",
            "/usr/local/lib/python3.11/dist-packages/transformers/training_args.py:1575: FutureWarning: `evaluation_strategy` is deprecated and will be removed in version 4.46 of 🤗 Transformers. Use `eval_strategy` instead\n",
            "  warnings.warn(\n",
            "<ipython-input-4-430e817c2ee4>:20: FutureWarning: `tokenizer` is deprecated and will be removed in version 5.0.0 for `Trainer.__init__`. Use `processing_class` instead.\n",
            "  trainer = Trainer(\n"
          ]
        },
        {
          "output_type": "display_data",
          "data": {
            "text/plain": [
              "<IPython.core.display.HTML object>"
            ],
            "text/html": [
              "\n",
              "    <div>\n",
              "      \n",
              "      <progress value='1250' max='1250' style='width:300px; height:20px; vertical-align: middle;'></progress>\n",
              "      [1250/1250 04:50, Epoch 2/2]\n",
              "    </div>\n",
              "    <table border=\"1\" class=\"dataframe\">\n",
              "  <thead>\n",
              " <tr style=\"text-align: left;\">\n",
              "      <th>Epoch</th>\n",
              "      <th>Training Loss</th>\n",
              "      <th>Validation Loss</th>\n",
              "    </tr>\n",
              "  </thead>\n",
              "  <tbody>\n",
              "    <tr>\n",
              "      <td>1</td>\n",
              "      <td>0.415600</td>\n",
              "      <td>0.284019</td>\n",
              "    </tr>\n",
              "    <tr>\n",
              "      <td>2</td>\n",
              "      <td>0.260800</td>\n",
              "      <td>0.376308</td>\n",
              "    </tr>\n",
              "  </tbody>\n",
              "</table><p>"
            ]
          },
          "metadata": {}
        },
        {
          "output_type": "execute_result",
          "data": {
            "text/plain": [
              "TrainOutput(global_step=1250, training_loss=0.3045713623046875, metrics={'train_runtime': 291.7303, 'train_samples_per_second': 34.278, 'train_steps_per_second': 4.285, 'total_flos': 662336993280000.0, 'train_loss': 0.3045713623046875, 'epoch': 2.0})"
            ]
          },
          "metadata": {},
          "execution_count": 4
        }
      ]
    },
    {
      "cell_type": "markdown",
      "source": [
        "## Step 5: Save and Evaluate the Fine-Tuned Model"
      ],
      "metadata": {
        "id": "Dv-ZJBe0-NXq"
      }
    },
    {
      "cell_type": "code",
      "source": [
        "# Save Fine-Tuned Model\n",
        "model.save_pretrained(\"distilbert-finetuned-imdb\")\n",
        "tokenizer.save_pretrained(\"distilbert-finetuned-imdb\")\n",
        "\n",
        "# Evaluate Fine-Tuned Model\n",
        "eval_results = trainer.evaluate()\n",
        "\n",
        "# Print Evaluation Results\n",
        "print(\"\\nEvaluation Results (Fine-Tuned Model):\")\n",
        "for key, value in eval_results.items():\n",
        "    print(f\"{key}: {value:.4f}\")\n"
      ],
      "metadata": {
        "colab": {
          "base_uri": "https://localhost:8080/",
          "height": 158
        },
        "id": "V7Ea8lag5AKJ",
        "outputId": "66173fed-15b1-4529-b3f1-44abd77749d8"
      },
      "execution_count": 5,
      "outputs": [
        {
          "output_type": "display_data",
          "data": {
            "text/plain": [
              "<IPython.core.display.HTML object>"
            ],
            "text/html": [
              "\n",
              "    <div>\n",
              "      \n",
              "      <progress value='125' max='125' style='width:300px; height:20px; vertical-align: middle;'></progress>\n",
              "      [125/125 00:07]\n",
              "    </div>\n",
              "    "
            ]
          },
          "metadata": {}
        },
        {
          "output_type": "stream",
          "name": "stdout",
          "text": [
            "\n",
            "Evaluation Results (Fine-Tuned Model):\n",
            "eval_loss: 0.3763\n",
            "eval_runtime: 7.5535\n",
            "eval_samples_per_second: 132.3890\n",
            "eval_steps_per_second: 16.5490\n",
            "epoch: 2.0000\n"
          ]
        }
      ]
    },
    {
      "cell_type": "markdown",
      "source": [
        "## Step 6: Compare Accuracy – Original vs Fine-Tuned Model"
      ],
      "metadata": {
        "id": "zCSoS17A-RwN"
      }
    },
    {
      "cell_type": "code",
      "source": [
        "# Load Original Pretrained Model\n",
        "original_model = DistilBertForSequenceClassification.from_pretrained(model_name, num_labels=2)\n",
        "\n",
        "# Define Evaluation Function\n",
        "def evaluate_model(model, dataset, description):\n",
        "    trainer = Trainer(\n",
        "        model=model,\n",
        "        eval_dataset=dataset[\"test\"].shuffle(seed=42).select(range(1000)),  # Test on 1000 samples\n",
        "        tokenizer=tokenizer\n",
        "    )\n",
        "    eval_results = trainer.evaluate()\n",
        "\n",
        "    print(f\"\\n📌 {description} Model Performance:\")\n",
        "    for key, value in eval_results.items():\n",
        "        print(f\"{key}: {value:.4f}\")\n",
        "\n",
        "# Evaluate Original and Fine-Tuned Models\n",
        "evaluate_model(original_model, encoded_dataset, \"Original Pretrained\")\n",
        "evaluate_model(model, encoded_dataset, \"Fine-Tuned\")"
      ],
      "metadata": {
        "colab": {
          "base_uri": "https://localhost:8080/",
          "height": 563
        },
        "id": "DkJSTLKf5FDP",
        "outputId": "a6595b70-769c-4819-9e74-c017601ac31e"
      },
      "execution_count": 6,
      "outputs": [
        {
          "output_type": "stream",
          "name": "stderr",
          "text": [
            "Some weights of DistilBertForSequenceClassification were not initialized from the model checkpoint at distilbert-base-uncased and are newly initialized: ['classifier.bias', 'classifier.weight', 'pre_classifier.bias', 'pre_classifier.weight']\n",
            "You should probably TRAIN this model on a down-stream task to be able to use it for predictions and inference.\n",
            "<ipython-input-6-0900ea52dc26>:6: FutureWarning: `tokenizer` is deprecated and will be removed in version 5.0.0 for `Trainer.__init__`. Use `processing_class` instead.\n",
            "  trainer = Trainer(\n"
          ]
        },
        {
          "output_type": "display_data",
          "data": {
            "text/plain": [
              "<IPython.core.display.HTML object>"
            ],
            "text/html": [
              "\n",
              "    <div>\n",
              "      \n",
              "      <progress value='125' max='125' style='width:300px; height:20px; vertical-align: middle;'></progress>\n",
              "      [125/125 00:07]\n",
              "    </div>\n",
              "    "
            ]
          },
          "metadata": {}
        },
        {
          "output_type": "stream",
          "name": "stderr",
          "text": [
            "\u001b[34m\u001b[1mwandb\u001b[0m: \u001b[33mWARNING\u001b[0m The `run_name` is currently set to the same value as `TrainingArguments.output_dir`. If this was not intended, please specify a different run name by setting the `TrainingArguments.run_name` parameter.\n",
            "\u001b[34m\u001b[1mwandb\u001b[0m: Currently logged in as: \u001b[33manisha-udayakumar\u001b[0m (\u001b[33manisha-udayakumar-intel\u001b[0m) to \u001b[32mhttps://api.wandb.ai\u001b[0m. Use \u001b[1m`wandb login --relogin`\u001b[0m to force relogin\n",
            "\u001b[34m\u001b[1mwandb\u001b[0m: Using wandb-core as the SDK backend.  Please refer to https://wandb.me/wandb-core for more information.\n"
          ]
        },
        {
          "output_type": "display_data",
          "data": {
            "text/plain": [
              "<IPython.core.display.HTML object>"
            ],
            "text/html": [
              "Tracking run with wandb version 0.19.5"
            ]
          },
          "metadata": {}
        },
        {
          "output_type": "display_data",
          "data": {
            "text/plain": [
              "<IPython.core.display.HTML object>"
            ],
            "text/html": [
              "Run data is saved locally in <code>/content/wandb/run-20250207_060225-4il69izg</code>"
            ]
          },
          "metadata": {}
        },
        {
          "output_type": "display_data",
          "data": {
            "text/plain": [
              "<IPython.core.display.HTML object>"
            ],
            "text/html": [
              "Syncing run <strong><a href='https://wandb.ai/anisha-udayakumar-intel/huggingface/runs/4il69izg' target=\"_blank\">tmp_trainer</a></strong> to <a href='https://wandb.ai/anisha-udayakumar-intel/huggingface' target=\"_blank\">Weights & Biases</a> (<a href='https://wandb.me/developer-guide' target=\"_blank\">docs</a>)<br>"
            ]
          },
          "metadata": {}
        },
        {
          "output_type": "display_data",
          "data": {
            "text/plain": [
              "<IPython.core.display.HTML object>"
            ],
            "text/html": [
              " View project at <a href='https://wandb.ai/anisha-udayakumar-intel/huggingface' target=\"_blank\">https://wandb.ai/anisha-udayakumar-intel/huggingface</a>"
            ]
          },
          "metadata": {}
        },
        {
          "output_type": "display_data",
          "data": {
            "text/plain": [
              "<IPython.core.display.HTML object>"
            ],
            "text/html": [
              " View run at <a href='https://wandb.ai/anisha-udayakumar-intel/huggingface/runs/4il69izg' target=\"_blank\">https://wandb.ai/anisha-udayakumar-intel/huggingface/runs/4il69izg</a>"
            ]
          },
          "metadata": {}
        },
        {
          "output_type": "stream",
          "name": "stdout",
          "text": [
            "\n",
            "📌 Original Pretrained Model Performance:\n",
            "eval_loss: 0.6968\n",
            "eval_model_preparation_time: 0.0017\n",
            "eval_runtime: 7.6074\n",
            "eval_samples_per_second: 131.4520\n",
            "eval_steps_per_second: 16.4310\n"
          ]
        },
        {
          "output_type": "stream",
          "name": "stderr",
          "text": [
            "<ipython-input-6-0900ea52dc26>:6: FutureWarning: `tokenizer` is deprecated and will be removed in version 5.0.0 for `Trainer.__init__`. Use `processing_class` instead.\n",
            "  trainer = Trainer(\n"
          ]
        },
        {
          "output_type": "display_data",
          "data": {
            "text/plain": [
              "<IPython.core.display.HTML object>"
            ],
            "text/html": [
              "\n",
              "    <div>\n",
              "      \n",
              "      <progress value='125' max='125' style='width:300px; height:20px; vertical-align: middle;'></progress>\n",
              "      [125/125 00:07]\n",
              "    </div>\n",
              "    "
            ]
          },
          "metadata": {}
        },
        {
          "output_type": "stream",
          "name": "stdout",
          "text": [
            "\n",
            "📌 Fine-Tuned Model Performance:\n",
            "eval_loss: 0.3763\n",
            "eval_model_preparation_time: 0.0013\n",
            "eval_runtime: 7.7316\n",
            "eval_samples_per_second: 129.3390\n",
            "eval_steps_per_second: 16.1670\n"
          ]
        }
      ]
    },
    {
      "cell_type": "markdown",
      "source": [
        "## Step 7: Compare Inference Speed"
      ],
      "metadata": {
        "id": "-GyLe2La-dZS"
      }
    },
    {
      "cell_type": "code",
      "source": [
        "import torch\n",
        "import time\n",
        "\n",
        "# Function to Measure Inference Speed\n",
        "def measure_inference_time(model, inputs, runs=10, device=\"cpu\"):\n",
        "    \"\"\"Measures average inference time over multiple runs on the specified device.\"\"\"\n",
        "    model.eval()  # Set model to evaluation mode\n",
        "    model.to(device)  # Move model to specified device\n",
        "    inputs = {k: v.to(device) for k, v in inputs.items()}  # Move inputs to same device\n",
        "\n",
        "    with torch.no_grad():\n",
        "        for _ in range(5):  # Warm-up runs\n",
        "            _ = model(**inputs)\n",
        "\n",
        "        start_time = time.time()\n",
        "        for _ in range(runs):\n",
        "            _ = model(**inputs)\n",
        "        avg_time = (time.time() - start_time) / runs  # Average time per inference\n",
        "\n",
        "    return avg_time * 1000  # Convert to milliseconds\n",
        "\n",
        "# Define Test Sentences\n",
        "test_sentences = [\n",
        "    \"This movie was fantastic! The storyline was engaging and the acting was top-notch.\",\n",
        "    \"I hated this film. The plot made no sense and the characters were annoying.\"\n",
        "]\n",
        "\n",
        "# Tokenize Inputs\n",
        "inputs = tokenizer(test_sentences, truncation=True, padding=True, return_tensors=\"pt\")\n",
        "\n",
        "# Select Device: Default to CPU\n",
        "device = \"cpu\"\n",
        "\n",
        "# Uncomment the line below to run on GPU if available\n",
        "# device = \"cuda\" if torch.cuda.is_available() else \"cpu\"\n",
        "\n",
        "# Ensure Models Are on the Same Device\n",
        "original_model.to(device)\n",
        "model.to(device)\n",
        "\n",
        "# Measure Inference Speed\n",
        "original_time = measure_inference_time(original_model, inputs, device=device)\n",
        "fine_tuned_time = measure_inference_time(model, inputs, device=device)\n",
        "\n",
        "# Print Results\n",
        "print(f\"\\n⏳ **Inference Speed Comparison:**\")\n",
        "print(f\"Original Pretrained Model: {original_time:.2f} ms per prediction\")\n",
        "print(f\"Fine-Tuned Model: {fine_tuned_time:.2f} ms per prediction\")\n",
        "print(f\"🚀 Speed Improvement: {original_time / fine_tuned_time:.2f}x\")\n"
      ],
      "metadata": {
        "colab": {
          "base_uri": "https://localhost:8080/"
        },
        "id": "QFjRZsLv5zYD",
        "outputId": "24e4063b-b30c-498c-db12-7d08051d1377"
      },
      "execution_count": 13,
      "outputs": [
        {
          "output_type": "stream",
          "name": "stdout",
          "text": [
            "\n",
            "⏳ **Inference Speed Comparison:**\n",
            "Original Pretrained Model: 142.48 ms per prediction\n",
            "Fine-Tuned Model: 180.96 ms per prediction\n",
            "🚀 Speed Improvement: 0.79x\n"
          ]
        }
      ]
    },
    {
      "cell_type": "markdown",
      "source": [
        "## Step 8: Visualizing the Results"
      ],
      "metadata": {
        "id": "CWwWLkFV-k0X"
      }
    },
    {
      "cell_type": "code",
      "source": [
        "# Data for Bar Chart\n",
        "models = [\"Original Model\", \"Fine-Tuned Model\"]\n",
        "accuracy = [0.85, 0.92]  # Hypothetical accuracy values\n",
        "inference_time = [original_time, fine_tuned_time]\n",
        "\n",
        "fig, axs = plt.subplots(1, 2, figsize=(10, 4))\n",
        "\n",
        "# Plot Accuracy Comparison\n",
        "axs[0].bar(models, accuracy, color=['gray', 'blue'])\n",
        "axs[0].set_title(\"Accuracy Comparison\")\n",
        "axs[0].set_ylabel(\"Accuracy\")\n",
        "axs[0].set_ylim(0.8, 1.0)\n",
        "\n",
        "# Plot Inference Time Comparison\n",
        "axs[1].bar(models, inference_time, color=['gray', 'blue'])\n",
        "axs[1].set_title(\"Inference Speed (ms)\")\n",
        "axs[1].set_ylabel(\"Time (ms)\")\n",
        "\n",
        "plt.show()\n"
      ],
      "metadata": {
        "colab": {
          "base_uri": "https://localhost:8080/",
          "height": 388
        },
        "id": "1_k3IaaE56CS",
        "outputId": "94c0263e-f84e-4c62-f499-142a73422443"
      },
      "execution_count": 10,
      "outputs": [
        {
          "output_type": "display_data",
          "data": {
            "text/plain": [
              "<Figure size 1000x400 with 2 Axes>"
            ],
            "image/png": "[encoded data removed]"
          },
          "metadata": {}
        }
      ]
    }
  ]
}
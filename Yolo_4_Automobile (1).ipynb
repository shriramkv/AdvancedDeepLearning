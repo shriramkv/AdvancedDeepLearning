{
  "nbformat": 4,
  "nbformat_minor": 0,
  "metadata": {
    "colab": {
      "provenance": []
    },
    "kernelspec": {
      "name": "python3",
      "display_name": "Python 3"
    },
    "language_info": {
      "name": "python"
    }
  },
  "cells": [
    {
      "cell_type": "code",
      "execution_count": 20,
      "metadata": {
        "colab": {
          "base_uri": "https://localhost:8080/"
        },
        "id": "LdyflbvyQUjI",
        "outputId": "128f0b88-cc3a-4c82-9be4-40712fe4ebee"
      },
      "outputs": [
        {
          "output_type": "stream",
          "name": "stdout",
          "text": [
            "\n",
            "image 1/1 /content/Mix_Image.jpg: 480x640 1 person, 19 cars, 1 motorcycle, 1 bus, 10 trucks, 408.1ms\n",
            "Speed: 3.6ms preprocess, 408.1ms inference, 1.6ms postprocess per image at shape (1, 3, 480, 640)\n",
            "Results saved to \u001b[1mruns/detect/predict7\u001b[0m\n",
            "Detection results saved in: runs/detect/predict7\n",
            "Object detection completed successfully!\n"
          ]
        }
      ],
      "source": [
        "from ultralytics import YOLO\n",
        "\n",
        "# Function to perform object detection\n",
        "def run_object_detection(image_path):\n",
        "    try:\n",
        "        # Load the YOLOv5 model (Ensure you have the model in the correct path)\n",
        "        model = YOLO(\"/content/yolov5su.pt\")  # Adjust if your model file name is different\n",
        "\n",
        "        # Perform object detection\n",
        "        results = model.predict(source=image_path, save=True)\n",
        "\n",
        "        # Print the directory where results are saved\n",
        "        print(f\"Detection results saved in: {results[0].save_dir}\")\n",
        "        print(\"Object detection completed successfully!\")\n",
        "    except Exception as e:\n",
        "        print(f\"Error during object detection: {e}\")\n",
        "\n",
        "# Main workflow\n",
        "if __name__ == \"__main__\":\n",
        "    try:\n",
        "        # Path to your image file\n",
        "        image_path = \"/content/Mix_Image.jpg\"\n",
        "\n",
        "        # Run object detection\n",
        "        run_object_detection(image_path)\n",
        "    except Exception as e:\n",
        "        print(f\"Workflow Error: {e}\")\n"
      ]
    }
  ]
}
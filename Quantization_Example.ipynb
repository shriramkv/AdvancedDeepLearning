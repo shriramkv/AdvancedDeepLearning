{
  "nbformat": 4,
  "nbformat_minor": 0,
  "metadata": {
    "colab": {
      "provenance": []
    },
    "kernelspec": {
      "name": "python3",
      "display_name": "Python 3"
    },
    "language_info": {
      "name": "python"
    }
  },
  "cells": [
    {
      "cell_type": "code",
      "source": [
        "import tensorflow as tf\n",
        "from tensorflow import keras\n",
        "import numpy as np\n",
        "import os\n",
        "import shutil\n",
        "\n",
        "# Step 1: Load the MNIST dataset (handwritten digits 0-9)\n",
        "mnist = keras.datasets.mnist\n",
        "(x_train, y_train), (x_test, y_test) = mnist.load_data()\n",
        "\n",
        "# Normalize the data (scale pixel values between 0 and 1)\n",
        "x_train, x_test = x_train / 255.0, x_test / 255.0\n",
        "\n",
        "# Step 2: Define a simple neural network model\n",
        "model = keras.Sequential([\n",
        "    keras.layers.Flatten(input_shape=(28, 28)),  # Flatten 28x28 images into a 1D array\n",
        "    keras.layers.Dense(128, activation='relu'),  # Dense hidden layer with ReLU activation\n",
        "    keras.layers.Dropout(0.2),  # Dropout to reduce overfitting (randomly drops 20% of neurons)\n",
        "    keras.layers.Dense(10)  # Output layer (10 classes for digits 0-9)\n",
        "])\n",
        "\n",
        "# Step 3: Compile the model\n",
        "model.compile(optimizer='adam',  # Adam optimizer (efficient for deep learning)\n",
        "              loss=tf.keras.losses.SparseCategoricalCrossentropy(from_logits=True),  # Cross-entropy loss for classification\n",
        "              metrics=['accuracy'])  # Track accuracy during training\n",
        "\n",
        "# Step 4: Train the model for 1 epoch\n",
        "model.fit(x_train, y_train, epochs=1, validation_data=(x_test, y_test))\n",
        "\n",
        "# Step 5: Save the trained model in TensorFlow's \"SavedModel\" format\n",
        "model.save('original_model')\n",
        "\n",
        "# Step 6: Zip the saved model to measure its actual size\n",
        "shutil.make_archive('original_model', 'zip', 'original_model')\n",
        "\n",
        "# Get the size of the zipped model\n",
        "original_size = os.path.getsize('original_model.zip')\n",
        "\n",
        "# Step 7: Define a function to generate representative data for quantization\n",
        "# This helps the model adapt to typical input patterns\n",
        "def representative_data_gen():\n",
        "    for i in range(100):  # Use the first 100 samples from the training set\n",
        "        yield [x_train[i:i+1].astype(np.float32)]  # Return batches of 1 sample each\n",
        "\n",
        "# Step 8: Convert the original model to TensorFlow Lite format (for mobile/embedded devices)\n",
        "converter = tf.lite.TFLiteConverter.from_saved_model('original_model')\n",
        "\n",
        "# Apply quantization (optimize model to reduce size and increase speed)\n",
        "converter.optimizations = [tf.lite.Optimize.DEFAULT]\n",
        "\n",
        "# Use the representative dataset to guide the quantization process\n",
        "converter.representative_dataset = representative_data_gen\n",
        "\n",
        "# Force the model to use 8-bit integer operations (smallest size)\n",
        "converter.target_spec.supported_ops = [tf.lite.OpsSet.TFLITE_BUILTINS_INT8]\n",
        "\n",
        "# Convert the model and store it in memory\n",
        "quantized_model = converter.convert()\n",
        "\n",
        "# Step 9: Save the quantized model as a .tflite file\n",
        "with open('quantized_model.tflite', 'wb') as f:\n",
        "    f.write(quantized_model)\n",
        "\n",
        "# Step 10: Measure the size of the quantized model\n",
        "quantized_size = os.path.getsize('quantized_model.tflite')\n",
        "\n",
        "# Step 11: Print and compare the sizes of the original and quantized models\n",
        "print(f\"Original model size (zipped): {original_size / 1024:.2f} KB\")\n",
        "print(f\"Quantized model size: {quantized_size / 1024:.2f} KB\")\n",
        "print(f\"Size reduction: {(1 - quantized_size / original_size) * 100:.2f}%\")\n"
      ],
      "metadata": {
        "colab": {
          "base_uri": "https://localhost:8080/"
        },
        "id": "5GP7qrM-0IiG",
        "outputId": "1128e240-4367-4d1e-9444-3ce815806f05"
      },
      "execution_count": 27,
      "outputs": [
        {
          "output_type": "stream",
          "name": "stdout",
          "text": [
            "1875/1875 [==============================] - 10s 5ms/step - loss: 0.2995 - accuracy: 0.9134 - val_loss: 0.1394 - val_accuracy: 0.9588\n",
            "Original model size (zipped): 1054.60 KB\n",
            "Quantized model size: 102.17 KB\n",
            "Size reduction: 90.31%\n"
          ]
        }
      ]
    }
  ]
}
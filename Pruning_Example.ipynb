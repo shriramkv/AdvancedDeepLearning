{
  "nbformat": 4,
  "nbformat_minor": 0,
  "metadata": {
    "colab": {
      "provenance": []
    },
    "kernelspec": {
      "name": "python3",
      "display_name": "Python 3"
    },
    "language_info": {
      "name": "python"
    }
  },
  "cells": [
    {
      "cell_type": "code",
      "source": [],
      "metadata": {
        "id": "5GP7qrM-0IiG"
      },
      "execution_count": 1,
      "outputs": []
    },
    {
      "cell_type": "code",
      "source": [
        "!pip install torch torchvision torchsummary --quiet\n",
        "\n",
        "import torch\n",
        "import torch.nn.utils.prune as prune\n",
        "import torchvision.models as models\n",
        "import time\n",
        "\n",
        "# 1. Load Pretrained ResNet-18 Model\n",
        "model = models.resnet18(pretrained=True)\n",
        "model.eval()\n",
        "\n",
        "# 2. Simulate Input (Random Tensor Like an Image)\n",
        "input_data = torch.rand(1, 3, 224, 224)\n",
        "\n",
        "# 3. Inference Before Pruning\n",
        "start = time.time()\n",
        "_ = model(input_data)\n",
        "end = time.time()\n",
        "print(f\"Inference Time (Before Pruning): {1000 * (end - start):.2f} ms\")\n",
        "\n",
        "# 4. Apply Simple Unstructured Pruning (30% of Weights Zeroed)\n",
        "for name, module in model.named_modules():\n",
        "    if isinstance(module, torch.nn.Conv2d):\n",
        "        prune.l1_unstructured(module, name='weight', amount=0.3)\n",
        "\n",
        "# 5. Inference After Pruning\n",
        "start = time.time()\n",
        "_ = model(input_data)\n",
        "end = time.time()\n",
        "print(f\"Inference Time (After Pruning): {1000 * (end - start):.2f} ms\")\n"
      ],
      "metadata": {
        "colab": {
          "base_uri": "https://localhost:8080/"
        },
        "id": "RwJYXbTO7-UI",
        "outputId": "7aa0e84c-cd22-4e56-a070-1f70455a34fa"
      },
      "execution_count": 13,
      "outputs": [
        {
          "output_type": "stream",
          "name": "stdout",
          "text": [
            "Inference Time (Before Pruning): 137.74 ms\n",
            "Inference Time (After Pruning): 100.99 ms\n"
          ]
        }
      ]
    }
  ]
}
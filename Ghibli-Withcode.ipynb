!pip install diffusers transformers accelerate scipy safetensors

import torch
from diffusers import StableDiffusionPipeline
from huggingface_hub import login
import matplotlib.pyplot as plt

# Login to Hugging Face
login()

# Load the Ghibli-style model
model_id = "nitrosocke/Ghibli-Diffusion"
pipe = StableDiffusionPipeline.from_pretrained(model_id, torch_dtype=torch.float32).to("cuda")

# Generate image
prompt = "A floating village at sunset with lanterns, in Studio Ghibli style"
image = pipe(prompt).images[0]

# Display image
image.save("ghibli_image.png")
plt.imshow(image)
plt.axis("off")
plt.title("Ghibli Style Output")
plt.show()

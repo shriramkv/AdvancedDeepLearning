{
  "nbformat": 4,
  "nbformat_minor": 0,
  "metadata": {
    "colab": {
      "provenance": []
    },
    "kernelspec": {
      "name": "python3",
      "display_name": "Python 3"
    },
    "language_info": {
      "name": "python"
    }
  },
  "cells": [
    {
      "cell_type": "code",
      "execution_count": 3,
      "metadata": {
        "colab": {
          "base_uri": "https://localhost:8080/"
        },
        "id": "44nWSKeQANg5",
        "outputId": "5faeb96f-425c-45d3-c6e6-ffa66c126f79"
      },
      "outputs": [
        {
          "output_type": "stream",
          "name": "stdout",
          "text": [
            "Inference completed for all images.\n",
            "Image 1 Output Shape: torch.Size([1, 1000])\n",
            "Image 2 Output Shape: torch.Size([1, 1000])\n",
            "Image 3 Output Shape: torch.Size([1, 1000])\n",
            "Image 4 Output Shape: torch.Size([1, 1000])\n",
            "Image 5 Output Shape: torch.Size([1, 1000])\n"
          ]
        }
      ],
      "source": [
        "# Import libraries\n",
        "import torch  # PyTorch for deep learning\n",
        "import torchvision.models as models  # Pretrained models like ResNet\n",
        "import asyncio  # For asynchronous programming\n",
        "\n",
        "# Load Pretrained ResNet Model\n",
        "# ResNet-18 is a pretrained image classification model trained on ImageNet\n",
        "model = models.resnet18(weights=models.ResNet18_Weights.IMAGENET1K_V1)\n",
        "model.eval()  # Set the model to evaluation mode (for inference only)\n",
        "\n",
        "# Define an Asynchronous Function for Inference\n",
        "# This function performs inference on a single image tensor\n",
        "async def perform_inference(image_tensor):\n",
        "    with torch.no_grad():  # Disable gradient calculations for faster inference\n",
        "        output = model(image_tensor)  # Perform inference on the input image\n",
        "    return output  # Return the model's output\n",
        "\n",
        "# Create a Batch of Random Images\n",
        "# Simulate 5 random images with 3 color channels (RGB), each of size 224x224\n",
        "batch = torch.rand(5, 3, 224, 224)\n",
        "\n",
        "# Define the Main Function for Asynchronous Execution\n",
        "# This function runs multiple inference tasks concurrently\n",
        "async def main():\n",
        "    # Create a list of asynchronous tasks for each image in the batch\n",
        "    tasks = [perform_inference(batch[i].unsqueeze(0)) for i in range(batch.size(0))]\n",
        "\n",
        "    # Run all tasks concurrently using asyncio.gather\n",
        "    results = await asyncio.gather(*tasks)\n",
        "\n",
        "    # Print confirmation and the shape of each result\n",
        "    print(\"Inference completed for all images.\")\n",
        "    for i, result in enumerate(results):\n",
        "        print(f\"Image {i + 1} Output Shape: {result.shape}\")\n",
        "\n",
        "# For Google Colab: Call main using await\n",
        "await main()  # Directly call main since Colab already runs an event loop\n"
      ]
    }
  ]
}